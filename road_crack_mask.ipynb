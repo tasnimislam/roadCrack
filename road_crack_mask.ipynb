{
 "cells": [
  {
   "cell_type": "code",
   "execution_count": 6,
   "source": [
    "import os\r\n",
    "import shutil"
   ],
   "outputs": [],
   "metadata": {}
  },
  {
   "cell_type": "code",
   "execution_count": 7,
   "source": [
    "mask_list = os.listdir(\"../mask for training\")\r\n",
    "print(len(mask_list))\r\n",
    "for i in range(len(mask_list)):\r\n",
    "    mask_list[i] = mask_list[i].replace(\"_mask\", \"\")\r\n",
    "    mask_list[i] = mask_list[i].replace(\".jpg\", \"\")\r\n",
    "    mask_list[i] = mask_list[i].replace(\".JPG\", \"\")"
   ],
   "outputs": [
    {
     "output_type": "stream",
     "name": "stdout",
     "text": [
      "1055\n"
     ]
    }
   ],
   "metadata": {}
  },
  {
   "cell_type": "code",
   "execution_count": 8,
   "source": [
    "image_list = os.listdir(\"../road_pranto_bhai/road/train\")\r\n",
    "x = []\r\n",
    "for i in range(len(image_list)):\r\n",
    "    x.append(image_list[i].split(\".\")[-1])\r\n",
    "print(set(x))\r\n",
    "\r\n",
    "for i in range(len(image_list)):\r\n",
    "    image_list[i] = image_list[i].replace(\".jpg\", \"\")"
   ],
   "outputs": [
    {
     "output_type": "stream",
     "name": "stdout",
     "text": [
      "{'jpg', 'json', 'JPG'}\n"
     ]
    }
   ],
   "metadata": {}
  },
  {
   "cell_type": "code",
   "execution_count": 9,
   "source": [
    "for i in range(len(mask_list)):\r\n",
    "    if mask_list[i] in image_list:\r\n",
    "        image_name  = \"../road_pranto_bhai/road/train/\" + mask_list[i] + \".jpg\"\r\n",
    "        #image_name  = \"../road_pranto_bhai/road/train/\" + mask_list[i] + \".JPG\"\r\n",
    "        shutil.copy(image_name,\"../unet training images\")"
   ],
   "outputs": [],
   "metadata": {}
  },
  {
   "cell_type": "code",
   "execution_count": 10,
   "source": [
    "print(len(os.listdir(\"../unet training images\")), len(os.listdir(\"../mask for training\")))"
   ],
   "outputs": [
    {
     "output_type": "stream",
     "name": "stdout",
     "text": [
      "1052 1055\n"
     ]
    }
   ],
   "metadata": {}
  },
  {
   "cell_type": "code",
   "execution_count": null,
   "source": [],
   "outputs": [],
   "metadata": {}
  }
 ],
 "metadata": {
  "orig_nbformat": 4,
  "language_info": {
   "name": "python",
   "version": "3.8.10"
  },
  "kernelspec": {
   "name": "python3",
   "display_name": "Python 3.8.10 64-bit ('RoadCrack': conda)"
  },
  "interpreter": {
   "hash": "5654276b738d524a54a6e188b19c277579e6a5e1ce25d21276952bca40002ca9"
  }
 },
 "nbformat": 4,
 "nbformat_minor": 2
}