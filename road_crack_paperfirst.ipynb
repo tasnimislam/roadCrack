{
 "cells": [
  {
   "cell_type": "code",
   "execution_count": 1,
   "metadata": {},
   "outputs": [],
   "source": [
    "import json\r\n",
    "import re"
   ]
  },
  {
   "cell_type": "markdown",
   "metadata": {},
   "source": [
    "# Read the images"
   ]
  },
  {
   "cell_type": "code",
   "execution_count": 2,
   "metadata": {},
   "outputs": [],
   "source": [
    "TRAIN_IMAGE_DIR = \"../road_pranto_bhai/road/train\"\r\n",
    "TRAIN_MASK = TRAIN_IMAGE_DIR + \"/\" + \"via_region_data.json\""
   ]
  },
  {
   "cell_type": "code",
   "execution_count": 66,
   "metadata": {},
   "outputs": [],
   "source": [
    "def json_file_read(file):\r\n",
    "    file = open(file)\r\n",
    "    data = json.load(file)\r\n",
    "\r\n",
    "    keys = list(data.keys())\r\n",
    "    print(keys[0])\r\n",
    "    # print(re.search(\"road.*\\d\", keys[0]))\r\n",
    "    # splitted = keys[0].split(\".\")[1]\r\n",
    "    splitted = re.search(r'(?<=.)\\w+', keys[0])\r\n",
    "    print(splitted.group(0))\r\n",
    "# https://www.w3schools.com/python/python_regex.asp"
   ]
  },
  {
   "cell_type": "code",
   "execution_count": 67,
   "metadata": {},
   "outputs": [
    {
     "name": "stdout",
     "output_type": "stream",
     "text": [
      "road_001.jpg608749\n",
      "oad_001\n"
     ]
    }
   ],
   "source": [
    "json_file_read(TRAIN_MASK)"
   ]
  },
  {
   "cell_type": "code",
   "execution_count": 5,
   "metadata": {},
   "outputs": [],
   "source": [
    "# read one image\r\n"
   ]
  }
 ],
 "metadata": {
  "interpreter": {
   "hash": "a19a6d80858674f3aa27d03365337da288f210dc3405d6cb79c3cb2469c4bba8"
  },
  "kernelspec": {
   "display_name": "Python 3.8.8 64-bit ('rsna_icml': conda)",
   "name": "python3"
  },
  "language_info": {
   "codemirror_mode": {
    "name": "ipython",
    "version": 3
   },
   "file_extension": ".py",
   "mimetype": "text/x-python",
   "name": "python",
   "nbconvert_exporter": "python",
   "pygments_lexer": "ipython3",
   "version": "3.8.10"
  },
  "orig_nbformat": 4
 },
 "nbformat": 4,
 "nbformat_minor": 2
}